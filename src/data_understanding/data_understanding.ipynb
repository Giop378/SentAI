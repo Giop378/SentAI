{
 "cells": [
  {
   "cell_type": "code",
   "id": "initial_id",
   "metadata": {
    "collapsed": true,
    "ExecuteTime": {
     "end_time": "2025-02-06T22:35:32.863642Z",
     "start_time": "2025-02-06T22:35:32.841107Z"
    }
   },
   "source": [
    "#Import delle librerie necessarie\n",
    "import pandas as pd\n",
    "import matplotlib.pyplot as plt\n",
    "import seaborn as sns"
   ],
   "outputs": [],
   "execution_count": 5
  },
  {
   "metadata": {},
   "cell_type": "markdown",
   "source": "# Raccolta e ispezione preliminare dei dati",
   "id": "406b60b5955e8a84"
  },
  {
   "metadata": {
    "ExecuteTime": {
     "end_time": "2025-02-06T22:35:42.907732Z",
     "start_time": "2025-02-06T22:35:36.963866Z"
    }
   },
   "cell_type": "code",
   "source": [
    "dataset = pd.read_csv(\"../../data/sentiment140_raw.csv\",  encoding='ISO-8859-1', low_memory=False)\n",
    "dataset.head()"
   ],
   "id": "fa930141a6b7e1a4",
   "outputs": [
    {
     "data": {
      "text/plain": [
       "   target          id                          date      flag  \\\n",
       "0       0  1467810369  Mon Apr 06 22:19:45 PDT 2009  NO_QUERY   \n",
       "1       0  1467810672  Mon Apr 06 22:19:49 PDT 2009  NO_QUERY   \n",
       "2       0  1467810917  Mon Apr 06 22:19:53 PDT 2009  NO_QUERY   \n",
       "3       0  1467811184  Mon Apr 06 22:19:57 PDT 2009  NO_QUERY   \n",
       "4       0  1467811193  Mon Apr 06 22:19:57 PDT 2009  NO_QUERY   \n",
       "\n",
       "              user                                               text  \n",
       "0  _TheSpecialOne_  @switchfoot http://twitpic.com/2y1zl - Awww, t...  \n",
       "1    scotthamilton  is upset that he can't update his Facebook by ...  \n",
       "2         mattycus  @Kenichan I dived many times for the ball. Man...  \n",
       "3          ElleCTF    my whole body feels itchy and like its on fire   \n",
       "4           Karoli  @nationwideclass no, it's not behaving at all....  "
      ],
      "text/html": [
       "<div>\n",
       "<style scoped>\n",
       "    .dataframe tbody tr th:only-of-type {\n",
       "        vertical-align: middle;\n",
       "    }\n",
       "\n",
       "    .dataframe tbody tr th {\n",
       "        vertical-align: top;\n",
       "    }\n",
       "\n",
       "    .dataframe thead th {\n",
       "        text-align: right;\n",
       "    }\n",
       "</style>\n",
       "<table border=\"1\" class=\"dataframe\">\n",
       "  <thead>\n",
       "    <tr style=\"text-align: right;\">\n",
       "      <th></th>\n",
       "      <th>target</th>\n",
       "      <th>id</th>\n",
       "      <th>date</th>\n",
       "      <th>flag</th>\n",
       "      <th>user</th>\n",
       "      <th>text</th>\n",
       "    </tr>\n",
       "  </thead>\n",
       "  <tbody>\n",
       "    <tr>\n",
       "      <th>0</th>\n",
       "      <td>0</td>\n",
       "      <td>1467810369</td>\n",
       "      <td>Mon Apr 06 22:19:45 PDT 2009</td>\n",
       "      <td>NO_QUERY</td>\n",
       "      <td>_TheSpecialOne_</td>\n",
       "      <td>@switchfoot http://twitpic.com/2y1zl - Awww, t...</td>\n",
       "    </tr>\n",
       "    <tr>\n",
       "      <th>1</th>\n",
       "      <td>0</td>\n",
       "      <td>1467810672</td>\n",
       "      <td>Mon Apr 06 22:19:49 PDT 2009</td>\n",
       "      <td>NO_QUERY</td>\n",
       "      <td>scotthamilton</td>\n",
       "      <td>is upset that he can't update his Facebook by ...</td>\n",
       "    </tr>\n",
       "    <tr>\n",
       "      <th>2</th>\n",
       "      <td>0</td>\n",
       "      <td>1467810917</td>\n",
       "      <td>Mon Apr 06 22:19:53 PDT 2009</td>\n",
       "      <td>NO_QUERY</td>\n",
       "      <td>mattycus</td>\n",
       "      <td>@Kenichan I dived many times for the ball. Man...</td>\n",
       "    </tr>\n",
       "    <tr>\n",
       "      <th>3</th>\n",
       "      <td>0</td>\n",
       "      <td>1467811184</td>\n",
       "      <td>Mon Apr 06 22:19:57 PDT 2009</td>\n",
       "      <td>NO_QUERY</td>\n",
       "      <td>ElleCTF</td>\n",
       "      <td>my whole body feels itchy and like its on fire</td>\n",
       "    </tr>\n",
       "    <tr>\n",
       "      <th>4</th>\n",
       "      <td>0</td>\n",
       "      <td>1467811193</td>\n",
       "      <td>Mon Apr 06 22:19:57 PDT 2009</td>\n",
       "      <td>NO_QUERY</td>\n",
       "      <td>Karoli</td>\n",
       "      <td>@nationwideclass no, it's not behaving at all....</td>\n",
       "    </tr>\n",
       "  </tbody>\n",
       "</table>\n",
       "</div>"
      ]
     },
     "execution_count": 6,
     "metadata": {},
     "output_type": "execute_result"
    }
   ],
   "execution_count": 6
  },
  {
   "metadata": {
    "ExecuteTime": {
     "end_time": "2025-02-06T22:35:46.660188Z",
     "start_time": "2025-02-06T22:35:46.631992Z"
    }
   },
   "cell_type": "code",
   "source": [
    "#Bisogna capire quante sono le osservazioni (righe) e quante sono le caratteristiche di ogni osservazione (colonne)\n",
    "print(\"Dimensioni del dataset (righe, colonne):\", dataset.shape)"
   ],
   "id": "d7faaf9b0b096a92",
   "outputs": [
    {
     "name": "stdout",
     "output_type": "stream",
     "text": [
      "Dimensioni del dataset (righe, colonne): (1600000, 6)\n"
     ]
    }
   ],
   "execution_count": 7
  },
  {
   "metadata": {
    "ExecuteTime": {
     "end_time": "2025-02-06T22:35:50.469299Z",
     "start_time": "2025-02-06T22:35:50.453679Z"
    }
   },
   "cell_type": "code",
   "source": [
    "# Verifica tipi di dati per le colonne del dataset\n",
    "print(\"\\nTipi di dati:\\n\", dataset.dtypes)"
   ],
   "id": "3cc8b706902eb42",
   "outputs": [
    {
     "name": "stdout",
     "output_type": "stream",
     "text": [
      "\n",
      "Tipi di dati:\n",
      " target     int64\n",
      "id         int64\n",
      "date      object\n",
      "flag      object\n",
      "user      object\n",
      "text      object\n",
      "dtype: object\n"
     ]
    }
   ],
   "execution_count": 8
  },
  {
   "metadata": {
    "ExecuteTime": {
     "end_time": "2025-02-06T22:35:59.319032Z",
     "start_time": "2025-02-06T22:35:55.128072Z"
    }
   },
   "cell_type": "code",
   "source": [
    "#Si controlla se nel dataset sono presenti valori nulli o stringhe vuote\n",
    "print(\"Valori nulli e stringhe vuote per colonna:\")\n",
    "print((dataset.isnull() | dataset.apply(lambda x: x.astype(str).str.strip() == \"\")).sum())"
   ],
   "id": "b59ec94f7aa5a357",
   "outputs": [
    {
     "name": "stdout",
     "output_type": "stream",
     "text": [
      "Valori nulli e stringhe vuote per colonna:\n",
      "target    0\n",
      "id        0\n",
      "date      0\n",
      "flag      0\n",
      "user      0\n",
      "text      0\n",
      "dtype: int64\n"
     ]
    }
   ],
   "execution_count": 9
  },
  {
   "metadata": {
    "ExecuteTime": {
     "end_time": "2025-02-06T22:36:36.832842Z",
     "start_time": "2025-02-06T22:36:33.963864Z"
    }
   },
   "cell_type": "code",
   "source": [
    "#Verifica dei duplicati\n",
    "text_counts = dataset['text'].value_counts()\n",
    "\n",
    "duplicati = text_counts[text_counts > 1]\n",
    "\n",
    "print(\"Testi duplicati e il numero di ripetizioni:\")\n",
    "print(duplicati)"
   ],
   "id": "4f8b86dcc39d0a2f",
   "outputs": [
    {
     "name": "stdout",
     "output_type": "stream",
     "text": [
      "Testi duplicati e il numero di ripetizioni:\n",
      "text\n",
      "isPlayer Has Died! Sorry                                                                                        210\n",
      "good morning                                                                                                    118\n",
      "headache                                                                                                        115\n",
      "Good morning                                                                                                    112\n",
      "Headache                                                                                                        106\n",
      "                                                                                                               ... \n",
      "@mikeyway http://twitpic.com/7j4ra - where can you buy this??? i wont drink the pop i just want the bottle!       2\n",
      "@KhloeKardashian Definitely my Mom. And Angelina Jolie                                                            2\n",
      "cedar point with my biffs                                                                                         2\n",
      "Im busy. Drooling. Over this video. ;)  but yeahh it does work captain!  @lostducky0013                           2\n",
      "night at the roxbury                                                                                              2\n",
      "Name: count, Length: 8434, dtype: int64\n"
     ]
    }
   ],
   "execution_count": 10
  },
  {
   "metadata": {
    "ExecuteTime": {
     "end_time": "2025-02-06T22:38:54.386357Z",
     "start_time": "2025-02-06T22:38:53.847805Z"
    }
   },
   "cell_type": "code",
   "source": [
    "# Conta il numero totale di duplicati nella colonna 'text'\n",
    "numero_duplicati = dataset['text'].duplicated().sum()\n",
    "print(\"Numero totale di duplicati nella colonna 'text':\", numero_duplicati)"
   ],
   "id": "d4a805add9e98793",
   "outputs": [
    {
     "name": "stdout",
     "output_type": "stream",
     "text": [
      "Numero totale di duplicati nella colonna 'text': 18534\n"
     ]
    }
   ],
   "execution_count": 13
  },
  {
   "metadata": {
    "ExecuteTime": {
     "end_time": "2025-02-06T22:37:29.511898Z",
     "start_time": "2025-02-06T22:37:24.827288Z"
    }
   },
   "cell_type": "code",
   "source": [
    "print((dataset.isnull() | dataset.apply(lambda x: x.astype(str).str.strip() == \"\")).sum())\n",
    "# Controllo del bilanciamento dei dati con realizzazione dell'istogramma\n",
    "sentiment_mapping = {0: \"Negativo\", 4: \"Positivo\"}\n",
    "dataset['target'] = dataset['target'].map(sentiment_mapping)\n",
    "\n",
    "# Conteggio delle classi\n",
    "sentiment_counts = dataset['target'].value_counts()\n",
    "\n",
    "# Stampa del numero di tweet per ciascuna classe\n",
    "print(\"\\nNumero di tweet per ciascuna classe:\")\n",
    "for sentiment, count in sentiment_counts.items():\n",
    "    print(f\"{sentiment}: {count}\")\n",
    "\n",
    "# Creazione del diagramma a barre\n",
    "plt.figure(figsize=(8, 5))\n",
    "plt.bar(sentiment_counts.index, sentiment_counts.values, color='skyblue', edgecolor='black')\n",
    "plt.xlabel(\"Classi di Sentiment (Negativo, Positivo)\")\n",
    "plt.ylabel(\"Numero di Esempi\")\n",
    "plt.title(\"Distribuzione delle Classi di Sentiment nel Dataset\")\n",
    "\n",
    "# Aggiunta dei valori sopra le barre\n",
    "for i, value in enumerate(sentiment_counts.values):\n",
    "    plt.text(i, value + 500, str(value), ha='center', fontsize=12)\n",
    "\n",
    "plt.show()"
   ],
   "id": "ddffe2405dd443a8",
   "outputs": [
    {
     "name": "stdout",
     "output_type": "stream",
     "text": [
      "target    0\n",
      "id        0\n",
      "date      0\n",
      "flag      0\n",
      "user      0\n",
      "text      0\n",
      "dtype: int64\n",
      "\n",
      "Numero di tweet per ciascuna classe:\n",
      "Negativo: 800000\n",
      "Positivo: 800000\n"
     ]
    },
    {
     "data": {
      "text/plain": [
       "<Figure size 800x500 with 1 Axes>"
      ],
      "image/png": "[encoded data removed]"
     },
     "metadata": {},
     "output_type": "display_data"
    }
   ],
   "execution_count": 12
  },
  {
   "metadata": {},
   "cell_type": "markdown",
   "source": "# Riduzione del dataset",
   "id": "f11cc8e0f1a63bef"
  },
  {
   "metadata": {
    "ExecuteTime": {
     "end_time": "2025-02-06T22:52:44.483753Z",
     "start_time": "2025-02-06T22:52:38.929380Z"
    }
   },
   "cell_type": "code",
   "source": [
    "dataset = pd.read_csv(\"../../data/sentiment140_raw.csv\", encoding='ISO-8859-1', low_memory=False)\n",
    "# Frazione per ottenere 100k tweet: 100000 / 1600000 = 0.0625\n",
    "sample_fraction = 0.0625\n",
    "\n",
    "# Si fa campionamento stratificato per mantenere la distribuzione bilanciata del dataset originale\n",
    "dataset_reduced = dataset.groupby('target', group_keys=False).apply(lambda x: x.sample(frac=sample_fraction))\n",
    "\n",
    "\n",
    "# Verifica\n",
    "print(\"\\nDimensioni dataset ridotto:\", dataset_reduced.shape)  # Output atteso: (100000, 6)"
   ],
   "id": "58f031695e719643",
   "outputs": [
    {
     "name": "stdout",
     "output_type": "stream",
     "text": [
      "\n",
      "Dimensioni dataset ridotto: (100000, 6)\n"
     ]
    },
    {
     "name": "stderr",
     "output_type": "stream",
     "text": [
      "C:\\Users\\pomic\\AppData\\Local\\Temp\\ipykernel_4460\\4042266336.py:6: DeprecationWarning: DataFrameGroupBy.apply operated on the grouping columns. This behavior is deprecated, and in a future version of pandas the grouping columns will be excluded from the operation. Either pass `include_groups=False` to exclude the groupings or explicitly select the grouping columns after groupby to silence this warning.\n",
      "  dataset_reduced = dataset.groupby('target', group_keys=False).apply(lambda x: x.sample(frac=sample_fraction))\n"
     ]
    }
   ],
   "execution_count": 30
  },
  {
   "metadata": {
    "ExecuteTime": {
     "end_time": "2025-02-06T22:52:47.541571Z",
     "start_time": "2025-02-06T22:52:46.869922Z"
    }
   },
   "cell_type": "code",
   "source": [
    "# Salva il subset ridotto in un nuovo CSV\n",
    "dataset_reduced.to_csv('../../data/sentiment140_reduced.csv', index=False)"
   ],
   "id": "ce024af9807f4de",
   "outputs": [],
   "execution_count": 31
  },
  {
   "metadata": {
    "ExecuteTime": {
     "end_time": "2025-02-06T22:41:11.826726Z",
     "start_time": "2025-02-06T22:41:11.795035Z"
    }
   },
   "cell_type": "code",
   "source": "dataset_reduced.head()",
   "id": "f8284a175a90d0da",
   "outputs": [
    {
     "data": {
      "text/plain": [
       "        target          id                          date      flag  \\\n",
       "119386       0  1828032553  Sun May 17 11:57:11 PDT 2009  NO_QUERY   \n",
       "458992       0  2072065062  Sun Jun 07 20:20:27 PDT 2009  NO_QUERY   \n",
       "450832       0  2069600868  Sun Jun 07 16:10:35 PDT 2009  NO_QUERY   \n",
       "140723       0  1881099262  Fri May 22 03:35:52 PDT 2009  NO_QUERY   \n",
       "161871       0  1957416857  Fri May 29 00:26:11 PDT 2009  NO_QUERY   \n",
       "\n",
       "                user                                               text  \n",
       "119386         xjerx  Wishing I'd said 'sod it' and was hanging with...  \n",
       "458992  kevingmiller           @WildSoul - That is ridiculous and sad.   \n",
       "450832     MzBreezii  gonna go put my nina to sleep. She's sick rt now   \n",
       "140723   harrison121  Has just woken up to electric dreams blasting ...  \n",
       "161871      Linsteyn                             I only hve 9followers   "
      ],
      "text/html": [
       "<div>\n",
       "<style scoped>\n",
       "    .dataframe tbody tr th:only-of-type {\n",
       "        vertical-align: middle;\n",
       "    }\n",
       "\n",
       "    .dataframe tbody tr th {\n",
       "        vertical-align: top;\n",
       "    }\n",
       "\n",
       "    .dataframe thead th {\n",
       "        text-align: right;\n",
       "    }\n",
       "</style>\n",
       "<table border=\"1\" class=\"dataframe\">\n",
       "  <thead>\n",
       "    <tr style=\"text-align: right;\">\n",
       "      <th></th>\n",
       "      <th>target</th>\n",
       "      <th>id</th>\n",
       "      <th>date</th>\n",
       "      <th>flag</th>\n",
       "      <th>user</th>\n",
       "      <th>text</th>\n",
       "    </tr>\n",
       "  </thead>\n",
       "  <tbody>\n",
       "    <tr>\n",
       "      <th>119386</th>\n",
       "      <td>0</td>\n",
       "      <td>1828032553</td>\n",
       "      <td>Sun May 17 11:57:11 PDT 2009</td>\n",
       "      <td>NO_QUERY</td>\n",
       "      <td>xjerx</td>\n",
       "      <td>Wishing I'd said 'sod it' and was hanging with...</td>\n",
       "    </tr>\n",
       "    <tr>\n",
       "      <th>458992</th>\n",
       "      <td>0</td>\n",
       "      <td>2072065062</td>\n",
       "      <td>Sun Jun 07 20:20:27 PDT 2009</td>\n",
       "      <td>NO_QUERY</td>\n",
       "      <td>kevingmiller</td>\n",
       "      <td>@WildSoul - That is ridiculous and sad.</td>\n",
       "    </tr>\n",
       "    <tr>\n",
       "      <th>450832</th>\n",
       "      <td>0</td>\n",
       "      <td>2069600868</td>\n",
       "      <td>Sun Jun 07 16:10:35 PDT 2009</td>\n",
       "      <td>NO_QUERY</td>\n",
       "      <td>MzBreezii</td>\n",
       "      <td>gonna go put my nina to sleep. She's sick rt now</td>\n",
       "    </tr>\n",
       "    <tr>\n",
       "      <th>140723</th>\n",
       "      <td>0</td>\n",
       "      <td>1881099262</td>\n",
       "      <td>Fri May 22 03:35:52 PDT 2009</td>\n",
       "      <td>NO_QUERY</td>\n",
       "      <td>harrison121</td>\n",
       "      <td>Has just woken up to electric dreams blasting ...</td>\n",
       "    </tr>\n",
       "    <tr>\n",
       "      <th>161871</th>\n",
       "      <td>0</td>\n",
       "      <td>1957416857</td>\n",
       "      <td>Fri May 29 00:26:11 PDT 2009</td>\n",
       "      <td>NO_QUERY</td>\n",
       "      <td>Linsteyn</td>\n",
       "      <td>I only hve 9followers</td>\n",
       "    </tr>\n",
       "  </tbody>\n",
       "</table>\n",
       "</div>"
      ]
     },
     "execution_count": 15,
     "metadata": {},
     "output_type": "execute_result"
    }
   ],
   "execution_count": 15
  },
  {
   "metadata": {
    "ExecuteTime": {
     "end_time": "2025-02-06T22:41:15.406998Z",
     "start_time": "2025-02-06T22:41:14.837884Z"
    }
   },
   "cell_type": "code",
   "source": [
    "#Si controlla se nel dataset sono presenti valori nulli o stringhe vuote\n",
    "print(\"Valori nulli e stringhe vuote per colonna:\")\n",
    "print((dataset_reduced.isnull() | dataset_reduced.apply(lambda x: x.astype(str).str.strip() == \"\")).sum())"
   ],
   "id": "c161488d81b606fe",
   "outputs": [
    {
     "name": "stdout",
     "output_type": "stream",
     "text": [
      "Valori nulli e stringhe vuote per colonna:\n",
      "target    0\n",
      "id        0\n",
      "date      0\n",
      "flag      0\n",
      "user      0\n",
      "text      0\n",
      "dtype: int64\n"
     ]
    }
   ],
   "execution_count": 16
  },
  {
   "metadata": {
    "ExecuteTime": {
     "end_time": "2025-02-06T22:42:44.005967Z",
     "start_time": "2025-02-06T22:42:43.856132Z"
    }
   },
   "cell_type": "code",
   "source": [
    "# Controllo del bilanciamento dei dati con realizzazione dell'istogramma\n",
    "sentiment_mapping = {0: \"Negativo\", 4: \"Positivo\"}\n",
    "dataset_reduced['target'] = dataset_reduced['target'].map(sentiment_mapping)\n",
    "\n",
    "# Conteggio delle classi\n",
    "sentiment_counts = dataset_reduced['target'].value_counts()\n",
    "\n",
    "# Stampa del numero di tweet per ciascuna classe\n",
    "print(\"\\nNumero di tweet per ciascuna classe:\")\n",
    "for sentiment, count in sentiment_counts.items():\n",
    "    print(f\"{sentiment}: {count}\")\n",
    "\n",
    "# Creazione del diagramma a barre\n",
    "plt.figure(figsize=(8, 5))\n",
    "plt.bar(sentiment_counts.index, sentiment_counts.values, color='skyblue', edgecolor='black')\n",
    "plt.xlabel(\"Classi di Sentiment (Negativo, Positivo)\")\n",
    "plt.ylabel(\"Numero di Esempi\")\n",
    "plt.title(\"Distribuzione delle Classi di Sentiment nel Dataset\")\n",
    "\n",
    "# Aggiunta dei valori sopra le barre\n",
    "for i, value in enumerate(sentiment_counts.values):\n",
    "    plt.text(i, value + 500, str(value), ha='center', fontsize=12)\n",
    "\n",
    "plt.show()"
   ],
   "id": "e6c6506526984ee0",
   "outputs": [
    {
     "name": "stdout",
     "output_type": "stream",
     "text": [
      "\n",
      "Numero di tweet per ciascuna classe:\n",
      "Negativo: 50000\n",
      "Positivo: 50000\n"
     ]
    },
    {
     "data": {
      "text/plain": [
       "<Figure size 800x500 with 1 Axes>"
      ],
      "image/png": "[encoded data removed]"
     },
     "metadata": {},
     "output_type": "display_data"
    }
   ],
   "execution_count": 18
  },
  {
   "metadata": {
    "ExecuteTime": {
     "end_time": "2025-02-06T22:42:50.239596Z",
     "start_time": "2025-02-06T22:42:50.008688Z"
    }
   },
   "cell_type": "code",
   "source": [
    "#Verifica dei duplicati\n",
    "text_counts = dataset_reduced['text'].value_counts()\n",
    "\n",
    "duplicati = text_counts[text_counts > 1]\n",
    "\n",
    "print(\"Testi duplicati e il numero di ripetizioni:\")\n",
    "print(duplicati)"
   ],
   "id": "f4951459051b41aa",
   "outputs": [
    {
     "name": "stdout",
     "output_type": "stream",
     "text": [
      "Testi duplicati e il numero di ripetizioni:\n",
      "text\n",
      "headache                                                                                                                                                13\n",
      "isPlayer Has Died! Sorry                                                                                                                                12\n",
      "Goodnight                                                                                                                                               10\n",
      "Good morning                                                                                                                                             9\n",
      " cant afford to see Angels and Demons, so i watched it for free: http://tr.im/lvBu                                                                       9\n",
      "                                                                                                                                                        ..\n",
      "@danmikhael is a hoser. I am most definitely human. and have a sneaky suspicion that Dan has &quot;ego&quot; issues-posted links 2 you! chill geek!      2\n",
      "Good Morning everyone                                                                                                                                    2\n",
      "Diversity or Stavros Flately to win!                                                                                                                     2\n",
      "Place for friends and dating (USERS ONLINE 134.432) http://bit.ly/16ksAX                                                                                 2\n",
      "eating ice cream                                                                                                                                         2\n",
      "Name: count, Length: 160, dtype: int64\n"
     ]
    }
   ],
   "execution_count": 19
  },
  {
   "metadata": {
    "ExecuteTime": {
     "end_time": "2025-02-06T22:43:13.874794Z",
     "start_time": "2025-02-06T22:43:13.828855Z"
    }
   },
   "cell_type": "code",
   "source": [
    "# Conta il numero totale di duplicati nella colonna 'text'\n",
    "numero_duplicati = dataset_reduced['text'].duplicated().sum()\n",
    "print(\"Numero totale di duplicati nella colonna 'text':\", numero_duplicati)"
   ],
   "id": "7615f243b19e1ac8",
   "outputs": [
    {
     "name": "stdout",
     "output_type": "stream",
     "text": [
      "Numero totale di duplicati nella colonna 'text': 274\n"
     ]
    }
   ],
   "execution_count": 20
  },
  {
   "metadata": {
    "ExecuteTime": {
     "end_time": "2025-02-06T22:44:49.182610Z",
     "start_time": "2025-02-06T22:44:49.120332Z"
    }
   },
   "cell_type": "code",
   "source": "dataset_reduced[dataset_reduced['text'].duplicated()]",
   "id": "79f32daed5fa5ff3",
   "outputs": [
    {
     "data": {
      "text/plain": [
       "           target          id                          date      flag  \\\n",
       "40412    Negativo  1573779866  Tue Apr 21 02:49:21 PDT 2009  NO_QUERY   \n",
       "477155   Negativo  2178086758  Mon Jun 15 07:10:29 PDT 2009  NO_QUERY   \n",
       "49261    Negativo  1678096657  Sat May 02 05:28:56 PDT 2009  NO_QUERY   \n",
       "277434   Negativo  1991274872  Mon Jun 01 06:44:16 PDT 2009  NO_QUERY   \n",
       "271184   Negativo  1989972852  Mon Jun 01 03:27:16 PDT 2009  NO_QUERY   \n",
       "...           ...         ...                           ...       ...   \n",
       "1177667  Positivo  1981455858  Sun May 31 09:11:27 PDT 2009  NO_QUERY   \n",
       "1583861  Positivo  2190488952  Tue Jun 16 02:52:39 PDT 2009  NO_QUERY   \n",
       "961665   Positivo  1827125746  Sun May 17 10:02:49 PDT 2009  NO_QUERY   \n",
       "1123962  Positivo  1974592258  Sat May 30 13:26:57 PDT 2009  NO_QUERY   \n",
       "1101605  Positivo  1970774537  Sat May 30 05:09:54 PDT 2009  NO_QUERY   \n",
       "\n",
       "                    user                                               text  \n",
       "40412    MsChristineDior                                 i have a headache   \n",
       "477155            rob_ma                                     Going to work   \n",
       "49261           amity_xo                                      my feet hurt   \n",
       "277434            wowlew                          isPlayer Has Died! Sorry   \n",
       "271184            wowlew                          isPlayer Has Died! Sorry   \n",
       "...                  ...                                                ...  \n",
       "1177667      treyjustice                                      good morning   \n",
       "1583861        Mat_The_W                                      Good Morning   \n",
       "961665      MarketingCat  As a reward, you may download a free copy of E...  \n",
       "1123962     sophienetter              Diversity or Stavros Flately to win!   \n",
       "1101605    dbreakenridge                                      Good morning   \n",
       "\n",
       "[274 rows x 6 columns]"
      ],
      "text/html": [
       "<div>\n",
       "<style scoped>\n",
       "    .dataframe tbody tr th:only-of-type {\n",
       "        vertical-align: middle;\n",
       "    }\n",
       "\n",
       "    .dataframe tbody tr th {\n",
       "        vertical-align: top;\n",
       "    }\n",
       "\n",
       "    .dataframe thead th {\n",
       "        text-align: right;\n",
       "    }\n",
       "</style>\n",
       "<table border=\"1\" class=\"dataframe\">\n",
       "  <thead>\n",
       "    <tr style=\"text-align: right;\">\n",
       "      <th></th>\n",
       "      <th>target</th>\n",
       "      <th>id</th>\n",
       "      <th>date</th>\n",
       "      <th>flag</th>\n",
       "      <th>user</th>\n",
       "      <th>text</th>\n",
       "    </tr>\n",
       "  </thead>\n",
       "  <tbody>\n",
       "    <tr>\n",
       "      <th>40412</th>\n",
       "      <td>Negativo</td>\n",
       "      <td>1573779866</td>\n",
       "      <td>Tue Apr 21 02:49:21 PDT 2009</td>\n",
       "      <td>NO_QUERY</td>\n",
       "      <td>MsChristineDior</td>\n",
       "      <td>i have a headache</td>\n",
       "    </tr>\n",
       "    <tr>\n",
       "      <th>477155</th>\n",
       "      <td>Negativo</td>\n",
       "      <td>2178086758</td>\n",
       "      <td>Mon Jun 15 07:10:29 PDT 2009</td>\n",
       "      <td>NO_QUERY</td>\n",
       "      <td>rob_ma</td>\n",
       "      <td>Going to work</td>\n",
       "    </tr>\n",
       "    <tr>\n",
       "      <th>49261</th>\n",
       "      <td>Negativo</td>\n",
       "      <td>1678096657</td>\n",
       "      <td>Sat May 02 05:28:56 PDT 2009</td>\n",
       "      <td>NO_QUERY</td>\n",
       "      <td>amity_xo</td>\n",
       "      <td>my feet hurt</td>\n",
       "    </tr>\n",
       "    <tr>\n",
       "      <th>277434</th>\n",
       "      <td>Negativo</td>\n",
       "      <td>1991274872</td>\n",
       "      <td>Mon Jun 01 06:44:16 PDT 2009</td>\n",
       "      <td>NO_QUERY</td>\n",
       "      <td>wowlew</td>\n",
       "      <td>isPlayer Has Died! Sorry</td>\n",
       "    </tr>\n",
       "    <tr>\n",
       "      <th>271184</th>\n",
       "      <td>Negativo</td>\n",
       "      <td>1989972852</td>\n",
       "      <td>Mon Jun 01 03:27:16 PDT 2009</td>\n",
       "      <td>NO_QUERY</td>\n",
       "      <td>wowlew</td>\n",
       "      <td>isPlayer Has Died! Sorry</td>\n",
       "    </tr>\n",
       "    <tr>\n",
       "      <th>...</th>\n",
       "      <td>...</td>\n",
       "      <td>...</td>\n",
       "      <td>...</td>\n",
       "      <td>...</td>\n",
       "      <td>...</td>\n",
       "      <td>...</td>\n",
       "    </tr>\n",
       "    <tr>\n",
       "      <th>1177667</th>\n",
       "      <td>Positivo</td>\n",
       "      <td>1981455858</td>\n",
       "      <td>Sun May 31 09:11:27 PDT 2009</td>\n",
       "      <td>NO_QUERY</td>\n",
       "      <td>treyjustice</td>\n",
       "      <td>good morning</td>\n",
       "    </tr>\n",
       "    <tr>\n",
       "      <th>1583861</th>\n",
       "      <td>Positivo</td>\n",
       "      <td>2190488952</td>\n",
       "      <td>Tue Jun 16 02:52:39 PDT 2009</td>\n",
       "      <td>NO_QUERY</td>\n",
       "      <td>Mat_The_W</td>\n",
       "      <td>Good Morning</td>\n",
       "    </tr>\n",
       "    <tr>\n",
       "      <th>961665</th>\n",
       "      <td>Positivo</td>\n",
       "      <td>1827125746</td>\n",
       "      <td>Sun May 17 10:02:49 PDT 2009</td>\n",
       "      <td>NO_QUERY</td>\n",
       "      <td>MarketingCat</td>\n",
       "      <td>As a reward, you may download a free copy of E...</td>\n",
       "    </tr>\n",
       "    <tr>\n",
       "      <th>1123962</th>\n",
       "      <td>Positivo</td>\n",
       "      <td>1974592258</td>\n",
       "      <td>Sat May 30 13:26:57 PDT 2009</td>\n",
       "      <td>NO_QUERY</td>\n",
       "      <td>sophienetter</td>\n",
       "      <td>Diversity or Stavros Flately to win!</td>\n",
       "    </tr>\n",
       "    <tr>\n",
       "      <th>1101605</th>\n",
       "      <td>Positivo</td>\n",
       "      <td>1970774537</td>\n",
       "      <td>Sat May 30 05:09:54 PDT 2009</td>\n",
       "      <td>NO_QUERY</td>\n",
       "      <td>dbreakenridge</td>\n",
       "      <td>Good morning</td>\n",
       "    </tr>\n",
       "  </tbody>\n",
       "</table>\n",
       "<p>274 rows × 6 columns</p>\n",
       "</div>"
      ]
     },
     "execution_count": 22,
     "metadata": {},
     "output_type": "execute_result"
    }
   ],
   "execution_count": 22
  },
  {
   "metadata": {
    "ExecuteTime": {
     "end_time": "2025-02-06T22:46:25.576851Z",
     "start_time": "2025-02-06T22:46:25.488744Z"
    }
   },
   "cell_type": "code",
   "source": [
    "#Analisi della lunghezza dei tweet\n",
    "lunghezze = dataset_reduced[\"text\"].str.len()\n",
    "\n",
    "# Calcola i valori minimo, massimo e la media\n",
    "lunghezza_minima = lunghezze.min()\n",
    "lunghezza_massima = lunghezze.max()\n",
    "lunghezza_media   = lunghezze.mean()\n",
    "\n",
    "print(\"Lunghezza minima:\", lunghezza_minima)\n",
    "print(\"Lunghezza massima:\", lunghezza_massima)\n",
    "print(\"Lunghezza media:\", lunghezza_media)"
   ],
   "id": "9fdc84f5b123a875",
   "outputs": [
    {
     "name": "stdout",
     "output_type": "stream",
     "text": [
      "Lunghezza minima: 7\n",
      "Lunghezza massima: 717\n",
      "Lunghezza media: 74.26514\n"
     ]
    }
   ],
   "execution_count": 27
  },
  {
   "metadata": {
    "ExecuteTime": {
     "end_time": "2025-02-06T22:46:36.017789Z",
     "start_time": "2025-02-06T22:46:35.908029Z"
    }
   },
   "cell_type": "code",
   "source": [
    "#Visualizzazione tweet lunghezza massima\n",
    "# Calcola l'indice del tweet con la lunghezza massima\n",
    "indice_massimo = dataset_reduced[\"text\"].str.len().idxmax()\n",
    "\n",
    "# Estrai il tweet con la lunghezza massima\n",
    "tweet_massimo = dataset_reduced.loc[indice_massimo, \"text\"]\n",
    "\n",
    "print(\"Tweet con la lunghezza massima:\")\n",
    "print(tweet_massimo)"
   ],
   "id": "c3925591b582b763",
   "outputs": [
    {
     "name": "stdout",
     "output_type": "stream",
     "text": [
      "Tweet con la lunghezza massima:\n",
      "@catfish_ohm Ã Â¹ÂÃ Â¸ÂÃ Â¹ÂÃ Â¸Â²Ã Â¹ÂÃ Â¸Â«Ã Â¹ÂÃ Â¸?Ã Â¸Â²Ã Â¸Â£Ã Â¹ÂÃ Â¸ÂÃ Â¸Â¹Ã Â¸ÂÃ Â¸?Ã Â¸Â¸Ã Â¹ÂÃ Â¸Â£Ã Â¸Â°(Ã Â¸ÂªÃ Â¸Â±Ã Â¸ÂªÃ Â¹Â+Ã Â¸Â¢Ã Â¸Â¹Ã Â¸Â£Ã Â¸Â´Ã Â¹?Ã Â¸?Ã Â¹ÂÃ Â¸ÂÃ Â¹ÂÃ Â¹?Ã Â¸ÂÃ Â¸ÂÃ Â¸ÂÃ Â¸Â°Ã Â¸ÂÃ Â¸Â­Ã Â¸ÂÃ Â¸ÂµÃ Â¸Â¡Ã Â¸Â´Ã Â¹ÂÃ Â¸?Ã Â¸Â°Ã Â¸Â«Ã Â¸Â§Ã Â¸Â(Ã Â¸ÂÃ Â¸ÂÃ Â¸Â²Ã Â¸ÂÃ Â¹ÂÃ Â¸ÂÃ Â¸Â´Ã Â¸ÂÃ Â¹?Ã Â¸?Ã Â¸Â¢Ã Â¸Â±Ã Â¸ÂÃ Â¹ÂÃ Â¸ÂÃ Â¸Â¢Ã Â¹ÂÃ Â¸Â«Ã Â¹ÂÃ Â¹ÂÃ Â¸Â¡Ã Â¹ÂÃ Â¹ÂÃ Â¸ÂÃ Â¹ÂÃ Â¹ÂÃ Â¸Â«Ã Â¸Â£Ã Â¸Â­.Ã Â¹?Ã Â¸ÂÃ Â¹ÂÃ Â¸ÂÃ Â¹ÂÃ Â¸Â²Ã Â¸ÂÃ Â¹ÂÃ Â¸Â«Ã Â¸Â­Ã Â¸Â°Ã Â¸Â£Ã Â¸Â²Ã Â¸Â¢Ã Â¸ÂÃ Â¸Â±Ã Â¹ÂÃ Â¸ÂÃ Â¹ÂÃ Â¸ÂÃ Â¸Â²Ã Â¹ÂÃ Â¸Â¡Ã Â¹ÂÃ Â¸Â­Ã Â¸Â°Ã Â¸?Ã Â¸Â§Ã Â¹ÂÃ Â¸Â²Ã Â¸ÂÃ Â¸Â¥Ã Â¸Â²Ã Â¹?Ã Â¸Â¡Ã Â¸Â§Ã Â¹ÂÃ Â¸Â¢Ã Â¸Â­Ã Â¸Â° = \n"
     ]
    }
   ],
   "execution_count": 28
  }
 ],
 "metadata": {
  "kernelspec": {
   "display_name": "Python 3",
   "language": "python",
   "name": "python3"
  },
  "language_info": {
   "codemirror_mode": {
    "name": "ipython",
    "version": 2
   },
   "file_extension": ".py",
   "mimetype": "text/x-python",
   "name": "python",
   "nbconvert_exporter": "python",
   "pygments_lexer": "ipython2",
   "version": "2.7.6"
  }
 },
 "nbformat": 4,
 "nbformat_minor": 5
}
