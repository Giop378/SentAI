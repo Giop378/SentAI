{
 "cells": [
  {
   "cell_type": "code",
   "id": "initial_id",
   "metadata": {
    "collapsed": true,
    "ExecuteTime": {
     "end_time": "2025-02-08T16:55:07.612261Z",
     "start_time": "2025-02-08T16:55:07.597563Z"
    }
   },
   "source": [
    "#import delle librerie necessarie\n",
    "import pandas as pd\n",
    "import numpy as np\n",
    "import re\n",
    "import nltk\n",
    "from nltk.corpus import stopwords\n",
    "from nltk.stem import PorterStemmer\n",
    "import matplotlib.pyplot as plt\n",
    "import seaborn as sns"
   ],
   "outputs": [],
   "execution_count": 141
  },
  {
   "metadata": {},
   "cell_type": "markdown",
   "source": "# Caricamento e visualizzazione del dataset",
   "id": "4817a0c26020efd2"
  },
  {
   "metadata": {
    "ExecuteTime": {
     "end_time": "2025-02-08T16:35:23.338955Z",
     "start_time": "2025-02-08T16:35:23.085376Z"
    }
   },
   "cell_type": "code",
   "source": [
    "#Caricamento e visualizzazione del dataset\n",
    "dataset = pd.read_csv(\"../../data/sentiment140_reduced.csv\", encoding=\"ISO-8859-1\")\n",
    "dataset"
   ],
   "id": "aa8f32c3abb4dee8",
   "outputs": [
    {
     "data": {
      "text/plain": [
       "       target          id                          date      flag  \\\n",
       "0           0  2205266671  Wed Jun 17 04:21:24 PDT 2009  NO_QUERY   \n",
       "1           0  1557952094  Sun Apr 19 06:42:20 PDT 2009  NO_QUERY   \n",
       "2           0  1972627285  Sat May 30 09:34:54 PDT 2009  NO_QUERY   \n",
       "3           0  2323727950  Thu Jun 25 01:20:10 PDT 2009  NO_QUERY   \n",
       "4           0  2300962221  Tue Jun 23 14:49:12 PDT 2009  NO_QUERY   \n",
       "...       ...         ...                           ...       ...   \n",
       "99995       4  1969622380  Sat May 30 00:38:36 PDT 2009  NO_QUERY   \n",
       "99996       4  2014939238  Wed Jun 03 03:11:04 PDT 2009  NO_QUERY   \n",
       "99997       4  1993793405  Mon Jun 01 10:56:28 PDT 2009  NO_QUERY   \n",
       "99998       4  1573170878  Tue Apr 21 00:00:28 PDT 2009  NO_QUERY   \n",
       "99999       4  1978382242  Sat May 30 23:11:26 PDT 2009  NO_QUERY   \n",
       "\n",
       "                  user                                               text  \n",
       "0      SparkleAndSpunk        @SushiDeathNo1 - bÃ¶Ã¶Ã¶Ã¶ll... I'M BORED!   \n",
       "1           TexasTerri  My that's early.  I wish I enjoyed mornings mo...  \n",
       "2      hippie_420_gurl   Is on her way to get a new pipe. My other broke   \n",
       "3               Kali23                 @DowneyJr you forgot all about me   \n",
       "4      ApatheticZodiac             @maria_lovsya boo, what a dirty trick   \n",
       "...                ...                                                ...  \n",
       "99995          LeonJay  Taking my daughter to the movies. Eating ice c...  \n",
       "99996            Dynom  @pierreJoye Yes, a while back. I found it very...  \n",
       "99997        VickiElam  @TTVWineGal Yes, it would have not been a part...  \n",
       "99998         pixienay                    wants to look at pretty things   \n",
       "99999      oOoshecutee                            goodnight loves . mwah   \n",
       "\n",
       "[100000 rows x 6 columns]"
      ],
      "text/html": [
       "<div>\n",
       "<style scoped>\n",
       "    .dataframe tbody tr th:only-of-type {\n",
       "        vertical-align: middle;\n",
       "    }\n",
       "\n",
       "    .dataframe tbody tr th {\n",
       "        vertical-align: top;\n",
       "    }\n",
       "\n",
       "    .dataframe thead th {\n",
       "        text-align: right;\n",
       "    }\n",
       "</style>\n",
       "<table border=\"1\" class=\"dataframe\">\n",
       "  <thead>\n",
       "    <tr style=\"text-align: right;\">\n",
       "      <th></th>\n",
       "      <th>target</th>\n",
       "      <th>id</th>\n",
       "      <th>date</th>\n",
       "      <th>flag</th>\n",
       "      <th>user</th>\n",
       "      <th>text</th>\n",
       "    </tr>\n",
       "  </thead>\n",
       "  <tbody>\n",
       "    <tr>\n",
       "      <th>0</th>\n",
       "      <td>0</td>\n",
       "      <td>2205266671</td>\n",
       "      <td>Wed Jun 17 04:21:24 PDT 2009</td>\n",
       "      <td>NO_QUERY</td>\n",
       "      <td>SparkleAndSpunk</td>\n",
       "      <td>@SushiDeathNo1 - bÃ¶Ã¶Ã¶Ã¶ll... I'M BORED!</td>\n",
       "    </tr>\n",
       "    <tr>\n",
       "      <th>1</th>\n",
       "      <td>0</td>\n",
       "      <td>1557952094</td>\n",
       "      <td>Sun Apr 19 06:42:20 PDT 2009</td>\n",
       "      <td>NO_QUERY</td>\n",
       "      <td>TexasTerri</td>\n",
       "      <td>My that's early.  I wish I enjoyed mornings mo...</td>\n",
       "    </tr>\n",
       "    <tr>\n",
       "      <th>2</th>\n",
       "      <td>0</td>\n",
       "      <td>1972627285</td>\n",
       "      <td>Sat May 30 09:34:54 PDT 2009</td>\n",
       "      <td>NO_QUERY</td>\n",
       "      <td>hippie_420_gurl</td>\n",
       "      <td>Is on her way to get a new pipe. My other broke</td>\n",
       "    </tr>\n",
       "    <tr>\n",
       "      <th>3</th>\n",
       "      <td>0</td>\n",
       "      <td>2323727950</td>\n",
       "      <td>Thu Jun 25 01:20:10 PDT 2009</td>\n",
       "      <td>NO_QUERY</td>\n",
       "      <td>Kali23</td>\n",
       "      <td>@DowneyJr you forgot all about me</td>\n",
       "    </tr>\n",
       "    <tr>\n",
       "      <th>4</th>\n",
       "      <td>0</td>\n",
       "      <td>2300962221</td>\n",
       "      <td>Tue Jun 23 14:49:12 PDT 2009</td>\n",
       "      <td>NO_QUERY</td>\n",
       "      <td>ApatheticZodiac</td>\n",
       "      <td>@maria_lovsya boo, what a dirty trick</td>\n",
       "    </tr>\n",
       "    <tr>\n",
       "      <th>...</th>\n",
       "      <td>...</td>\n",
       "      <td>...</td>\n",
       "      <td>...</td>\n",
       "      <td>...</td>\n",
       "      <td>...</td>\n",
       "      <td>...</td>\n",
       "    </tr>\n",
       "    <tr>\n",
       "      <th>99995</th>\n",
       "      <td>4</td>\n",
       "      <td>1969622380</td>\n",
       "      <td>Sat May 30 00:38:36 PDT 2009</td>\n",
       "      <td>NO_QUERY</td>\n",
       "      <td>LeonJay</td>\n",
       "      <td>Taking my daughter to the movies. Eating ice c...</td>\n",
       "    </tr>\n",
       "    <tr>\n",
       "      <th>99996</th>\n",
       "      <td>4</td>\n",
       "      <td>2014939238</td>\n",
       "      <td>Wed Jun 03 03:11:04 PDT 2009</td>\n",
       "      <td>NO_QUERY</td>\n",
       "      <td>Dynom</td>\n",
       "      <td>@pierreJoye Yes, a while back. I found it very...</td>\n",
       "    </tr>\n",
       "    <tr>\n",
       "      <th>99997</th>\n",
       "      <td>4</td>\n",
       "      <td>1993793405</td>\n",
       "      <td>Mon Jun 01 10:56:28 PDT 2009</td>\n",
       "      <td>NO_QUERY</td>\n",
       "      <td>VickiElam</td>\n",
       "      <td>@TTVWineGal Yes, it would have not been a part...</td>\n",
       "    </tr>\n",
       "    <tr>\n",
       "      <th>99998</th>\n",
       "      <td>4</td>\n",
       "      <td>1573170878</td>\n",
       "      <td>Tue Apr 21 00:00:28 PDT 2009</td>\n",
       "      <td>NO_QUERY</td>\n",
       "      <td>pixienay</td>\n",
       "      <td>wants to look at pretty things</td>\n",
       "    </tr>\n",
       "    <tr>\n",
       "      <th>99999</th>\n",
       "      <td>4</td>\n",
       "      <td>1978382242</td>\n",
       "      <td>Sat May 30 23:11:26 PDT 2009</td>\n",
       "      <td>NO_QUERY</td>\n",
       "      <td>oOoshecutee</td>\n",
       "      <td>goodnight loves . mwah</td>\n",
       "    </tr>\n",
       "  </tbody>\n",
       "</table>\n",
       "<p>100000 rows × 6 columns</p>\n",
       "</div>"
      ]
     },
     "execution_count": 121,
     "metadata": {},
     "output_type": "execute_result"
    }
   ],
   "execution_count": 121
  },
  {
   "metadata": {},
   "cell_type": "markdown",
   "source": "# Rimozione colonne non necessarie e conversione del target da 4 a 1 per i tweet positivi",
   "id": "5ea6913a9bb3f2b7"
  },
  {
   "metadata": {
    "ExecuteTime": {
     "end_time": "2025-02-08T16:35:25.901849Z",
     "start_time": "2025-02-08T16:35:25.874804Z"
    }
   },
   "cell_type": "code",
   "source": [
    "#Modifica del dataset_reduced per la rimozione delle colonne non necessarie\n",
    "dataset = dataset[['text', 'target']]\n",
    "dataset = dataset.copy()\n",
    "dataset"
   ],
   "id": "5db7b72c7445420d",
   "outputs": [
    {
     "data": {
      "text/plain": [
       "                                                    text  target\n",
       "0            @SushiDeathNo1 - bÃ¶Ã¶Ã¶Ã¶ll... I'M BORED!        0\n",
       "1      My that's early.  I wish I enjoyed mornings mo...       0\n",
       "2       Is on her way to get a new pipe. My other broke        0\n",
       "3                     @DowneyJr you forgot all about me        0\n",
       "4                 @maria_lovsya boo, what a dirty trick        0\n",
       "...                                                  ...     ...\n",
       "99995  Taking my daughter to the movies. Eating ice c...       4\n",
       "99996  @pierreJoye Yes, a while back. I found it very...       4\n",
       "99997  @TTVWineGal Yes, it would have not been a part...       4\n",
       "99998                    wants to look at pretty things        4\n",
       "99999                            goodnight loves . mwah        4\n",
       "\n",
       "[100000 rows x 2 columns]"
      ],
      "text/html": [
       "<div>\n",
       "<style scoped>\n",
       "    .dataframe tbody tr th:only-of-type {\n",
       "        vertical-align: middle;\n",
       "    }\n",
       "\n",
       "    .dataframe tbody tr th {\n",
       "        vertical-align: top;\n",
       "    }\n",
       "\n",
       "    .dataframe thead th {\n",
       "        text-align: right;\n",
       "    }\n",
       "</style>\n",
       "<table border=\"1\" class=\"dataframe\">\n",
       "  <thead>\n",
       "    <tr style=\"text-align: right;\">\n",
       "      <th></th>\n",
       "      <th>text</th>\n",
       "      <th>target</th>\n",
       "    </tr>\n",
       "  </thead>\n",
       "  <tbody>\n",
       "    <tr>\n",
       "      <th>0</th>\n",
       "      <td>@SushiDeathNo1 - bÃ¶Ã¶Ã¶Ã¶ll... I'M BORED!</td>\n",
       "      <td>0</td>\n",
       "    </tr>\n",
       "    <tr>\n",
       "      <th>1</th>\n",
       "      <td>My that's early.  I wish I enjoyed mornings mo...</td>\n",
       "      <td>0</td>\n",
       "    </tr>\n",
       "    <tr>\n",
       "      <th>2</th>\n",
       "      <td>Is on her way to get a new pipe. My other broke</td>\n",
       "      <td>0</td>\n",
       "    </tr>\n",
       "    <tr>\n",
       "      <th>3</th>\n",
       "      <td>@DowneyJr you forgot all about me</td>\n",
       "      <td>0</td>\n",
       "    </tr>\n",
       "    <tr>\n",
       "      <th>4</th>\n",
       "      <td>@maria_lovsya boo, what a dirty trick</td>\n",
       "      <td>0</td>\n",
       "    </tr>\n",
       "    <tr>\n",
       "      <th>...</th>\n",
       "      <td>...</td>\n",
       "      <td>...</td>\n",
       "    </tr>\n",
       "    <tr>\n",
       "      <th>99995</th>\n",
       "      <td>Taking my daughter to the movies. Eating ice c...</td>\n",
       "      <td>4</td>\n",
       "    </tr>\n",
       "    <tr>\n",
       "      <th>99996</th>\n",
       "      <td>@pierreJoye Yes, a while back. I found it very...</td>\n",
       "      <td>4</td>\n",
       "    </tr>\n",
       "    <tr>\n",
       "      <th>99997</th>\n",
       "      <td>@TTVWineGal Yes, it would have not been a part...</td>\n",
       "      <td>4</td>\n",
       "    </tr>\n",
       "    <tr>\n",
       "      <th>99998</th>\n",
       "      <td>wants to look at pretty things</td>\n",
       "      <td>4</td>\n",
       "    </tr>\n",
       "    <tr>\n",
       "      <th>99999</th>\n",
       "      <td>goodnight loves . mwah</td>\n",
       "      <td>4</td>\n",
       "    </tr>\n",
       "  </tbody>\n",
       "</table>\n",
       "<p>100000 rows × 2 columns</p>\n",
       "</div>"
      ]
     },
     "execution_count": 122,
     "metadata": {},
     "output_type": "execute_result"
    }
   ],
   "execution_count": 122
  },
  {
   "metadata": {
    "ExecuteTime": {
     "end_time": "2025-02-08T16:35:27.880411Z",
     "start_time": "2025-02-08T16:35:27.837658Z"
    }
   },
   "cell_type": "code",
   "source": [
    "#Sostituzione dei valori della colonna 'target': 0 rimane 0 (negativo) e 4 diventa 1 (positivo)\n",
    "dataset['target'] = dataset['target'].apply(lambda x: 1 if x == 4 else 0)\n",
    "dataset\n",
    "#Stampa distribuzione delle classi\n",
    "print(\"Distribuzione delle classi:\")\n",
    "print(dataset['target'].value_counts())\n"
   ],
   "id": "8843ea152a02b4ee",
   "outputs": [
    {
     "name": "stdout",
     "output_type": "stream",
     "text": [
      "Distribuzione delle classi:\n",
      "target\n",
      "0    50000\n",
      "1    50000\n",
      "Name: count, dtype: int64\n"
     ]
    }
   ],
   "execution_count": 123
  },
  {
   "metadata": {},
   "cell_type": "markdown",
   "source": "# Rimozione duplicati",
   "id": "baa596c8e9b92a58"
  },
  {
   "metadata": {
    "ExecuteTime": {
     "end_time": "2025-02-08T16:35:29.989406Z",
     "start_time": "2025-02-08T16:35:29.913255Z"
    }
   },
   "cell_type": "code",
   "source": [
    "#Rimozione duplicati individuati durante la fase di data understanding (vengono rimossi i tweet che hanno lo stesso testo di altri)\n",
    "# Conta il numero totale di duplicati nella colonna 'text'\n",
    "numero_duplicati = dataset['text'].duplicated().sum()\n",
    "print(\"Numero totale di duplicati nella colonna 'text':\", numero_duplicati)\n",
    "\n",
    "# Rimuovi i duplicati\n",
    "dataset.drop_duplicates(subset='text', inplace=True)\n",
    "\n",
    "# Conta il numero totale di duplicati nella colonna 'text' dopo la rimozione\n",
    "numero_duplicati = dataset['text'].duplicated().sum()\n",
    "print(\"Numero totale di duplicati nella colonna 'text' dopo la rimozione:\", numero_duplicati)"
   ],
   "id": "c74a24a88d8e640a",
   "outputs": [
    {
     "name": "stdout",
     "output_type": "stream",
     "text": [
      "Numero totale di duplicati nella colonna 'text': 296\n",
      "Numero totale di duplicati nella colonna 'text' dopo la rimozione: 0\n"
     ]
    }
   ],
   "execution_count": 124
  },
  {
   "metadata": {
    "ExecuteTime": {
     "end_time": "2025-02-08T16:35:33.669786Z",
     "start_time": "2025-02-08T16:35:33.650424Z"
    }
   },
   "cell_type": "code",
   "source": [
    "#Verifica dell'eliminazione dei 296 duplicati\n",
    "dataset.shape"
   ],
   "id": "18af5a7eee607aa7",
   "outputs": [
    {
     "data": {
      "text/plain": [
       "(99704, 2)"
      ]
     },
     "execution_count": 125,
     "metadata": {},
     "output_type": "execute_result"
    }
   ],
   "execution_count": 125
  },
  {
   "metadata": {},
   "cell_type": "markdown",
   "source": "# Filtraggio tweet con lunghezza anomala",
   "id": "d248ca7a163d0b53"
  },
  {
   "metadata": {
    "ExecuteTime": {
     "end_time": "2025-02-08T16:35:35.353832Z",
     "start_time": "2025-02-08T16:35:35.268321Z"
    }
   },
   "cell_type": "code",
   "source": [
    "#Visualizza il numero di tweet con lunghezza maggiore di 140 caratteri\n",
    "print(\"Numero di tweet con lunghezza maggiore di 140 caratteri:\", dataset[dataset['text'].str.len() > 140].shape[0])\n",
    "\n",
    "#Rimozione dei tweet con lunghezza maggiore di 140 caratteri\n",
    "dataset = dataset[dataset['text'].str.len() <= 140]\n",
    "\n",
    "dataset.shape\n",
    "\n",
    "#Numero di tweet con lunghezza maggiore di 140 caratteri dopo la rimozione\n",
    "print(\"Numero di tweet con lunghezza maggiore di 140 caratteri dopo la rimozione:\", dataset[dataset['text'].str.len() > 140].shape[0])"
   ],
   "id": "5316b52ecc81703d",
   "outputs": [
    {
     "name": "stdout",
     "output_type": "stream",
     "text": [
      "Numero di tweet con lunghezza maggiore di 140 caratteri: 995\n",
      "Numero di tweet con lunghezza maggiore di 140 caratteri dopo la rimozione: 0\n"
     ]
    }
   ],
   "execution_count": 126
  },
  {
   "metadata": {
    "ExecuteTime": {
     "end_time": "2025-02-08T16:35:37.071092Z",
     "start_time": "2025-02-08T16:35:36.804940Z"
    }
   },
   "cell_type": "code",
   "source": [
    "#Visualizza il numero di tweet con lunghezza minore di 10 caratteri\n",
    "print(\"Numero di tweet con lunghezza minore di 10 caratteri:\", dataset[dataset['text'].str.len() < 10].shape[0])\n",
    "\n",
    "#Stampa tutti i tweet con lunghezza minore di 10 caratteri\n",
    "print(\"Tweet con lunghezza minore di 10 caratteri:\")\n",
    "print(dataset[dataset['text'].str.len() < 10]['text'].tolist())\n",
    "\n",
    "#Rimozione dei tweet con meno di 10 caratteri e che contengono una menzione\n",
    "def contains_mention(text):\n",
    "    return bool(re.search(r\"@\\w+\", text))\n",
    "short_with_mention = dataset[(dataset['text'].str.len() < 10) & (dataset['text'].apply(contains_mention))]\n",
    "\n",
    "print(\"Numero di tweet con meno di 10 caratteri e che contengono una menzione:\", short_with_mention.shape[0])\n",
    "\n",
    "dataset = dataset[~((dataset['text'].str.len() < 10) & (dataset['text'].apply(contains_mention)))]\n",
    "\n",
    "# Numero di tweet con lunghezza minore di 10 caratteri dopo la rimozione\n",
    "print(\"Numero di tweet con lunghezza minore di 10 caratteri dopo la rimozione:\", dataset[dataset['text'].str.len() < 10].shape[0])"
   ],
   "id": "48ad0275a52e38a6",
   "outputs": [
    {
     "name": "stdout",
     "output_type": "stream",
     "text": [
      "Numero di tweet con lunghezza minore di 10 caratteri: 163\n",
      "Tweet con lunghezza minore di 10 caratteri:\n",
      "['headache ', 'selfish ', 'I lied. ', '@gphong ', 'please? ', 'Homework ', 'ow ow ow ', 'Whatever ', 'just  tbh', 'In class ', 'homework ', 'Sunday ', 'br cold! ', 'headace ', 'Sold out ', 'Headache ', 'Revision ', 'so cold ', 'So bored ', 'Still up ', 'pusiiing ', 'Annoyed ', 'My ears ', 'So tired ', 'Tireeed ', '@sheabop ', 'HEADACHE ', 'Waiting ', '@mMmily ', 'Learning ', ' why me?', ' my life', 'Yes I am ', 'cleaning ', 'grounded ', 'i am ill ', 'raining ', 'stressed ', '@rebstew ', 'Work 9-6 ', 'learning ', 'RIP fish ', 'goodbye ', 'Confused ', 'ict....  ', 'bad day ', 'Hangover ', 'restart. ', 'nope... ', 'Over it ', 'Blackout ', 'i is sad ', 'is tired ', 'at work ', 'Hiccups ', 'Workyyyy ', ' is hurty', 'Bad day ', 'am tired ', '@Shazzib ', 'Ugh work ', 'nothing ', 'Bad head ', 'Bad day. ', 'revision ', 'thinking ', 'foooome ', 'painting ', 'LEARNiNG ', ' over it', ' fuck....', '@amylong ', 'bein sad ', 'At work ', 'I guess ', 'At home. ', 'Packing. ', '@nellong ', 'confused ', 'abit mad ', 'Overcast ', 'Offline ', 'backache ', 'boo you ', \"I'm Cold \", '@gus7610 ', '@iSecks ', 'is cold ', 'i a cold ', 'How sad ', 'wwthreee ', 'BEANS!!! ', 'Packing ', 'Is sad. ', 'miss you ', 'Busy day ', '3 hours ', 'hey guys ', 'why!?  :S', 'work exp ', 'Angustia ', 'worried ', 'NO SHAME ', 'Shepard ', '@winkyc ', 'Prepared ', 'Relaxing ', 'waiting ', 'at tgif ', '5 HOURS ', 'text me ', 'Mcfly ! ', 'Bed time ', 'Thanks ', 'at home ', \"I'm out \", 'Reading. ', 'musical ', '@Hjoorth ', 'PICTURES ', 'chilling ', 'eatinggg ', '@NatCall ', '@sylver ', '3-1 wow  ', ' howdii.', \"Chillin' \", 'FOOOOOD! ', '@Zahily ', '@weppos ', 'is home  ', '@al_ice ', 'it works ', 'relaxing ', 'who knew ', 'It will ', 'Got paid ', 'Thanks! ', 'Nice day ', \"quizno's \", '@JHolty ', 'hey, hey ', 'Editing. ', 'SUNDAY!! ', 'Off I go ', 'online. ', 'yup yup ', 'Hi peeps ', '#seb-day ', 'chatting ', 'Houseeee ', '@houzhou ', 'Scrubss ', 'hey hey ', 'Anxiouss ', 'Writing. ', ' love you', 'yesssss ', '*heart ', 'soo warm ', 'Cooking ', 'on utube ', 'SUMMMER ']\n",
      "Numero di tweet con meno di 10 caratteri e che contengono una menzione: 18\n",
      "Numero di tweet con lunghezza minore di 10 caratteri dopo la rimozione: 145\n"
     ]
    }
   ],
   "execution_count": 127
  },
  {
   "metadata": {
    "ExecuteTime": {
     "end_time": "2025-02-08T16:35:57.377170Z",
     "start_time": "2025-02-08T16:35:57.369157Z"
    }
   },
   "cell_type": "code",
   "source": "dataset.shape #Numero di tweet rimanenti",
   "id": "9373a66745f98ca3",
   "outputs": [
    {
     "data": {
      "text/plain": [
       "(98691, 2)"
      ]
     },
     "execution_count": 129,
     "metadata": {},
     "output_type": "execute_result"
    }
   ],
   "execution_count": 129
  },
  {
   "metadata": {
    "ExecuteTime": {
     "end_time": "2025-02-08T16:37:32.244992Z",
     "start_time": "2025-02-08T16:37:32.236225Z"
    }
   },
   "cell_type": "code",
   "source": [
    "#Visualizzazione del dataset dopo la pulizia\n",
    "dataset"
   ],
   "id": "867472127331dcd",
   "outputs": [
    {
     "data": {
      "text/plain": [
       "                                                    text  target\n",
       "0            @SushiDeathNo1 - bÃ¶Ã¶Ã¶Ã¶ll... I'M BORED!        0\n",
       "1      My that's early.  I wish I enjoyed mornings mo...       0\n",
       "2       Is on her way to get a new pipe. My other broke        0\n",
       "3                     @DowneyJr you forgot all about me        0\n",
       "4                 @maria_lovsya boo, what a dirty trick        0\n",
       "...                                                  ...     ...\n",
       "99995  Taking my daughter to the movies. Eating ice c...       1\n",
       "99996  @pierreJoye Yes, a while back. I found it very...       1\n",
       "99997  @TTVWineGal Yes, it would have not been a part...       1\n",
       "99998                    wants to look at pretty things        1\n",
       "99999                            goodnight loves . mwah        1\n",
       "\n",
       "[98691 rows x 2 columns]"
      ],
      "text/html": [
       "<div>\n",
       "<style scoped>\n",
       "    .dataframe tbody tr th:only-of-type {\n",
       "        vertical-align: middle;\n",
       "    }\n",
       "\n",
       "    .dataframe tbody tr th {\n",
       "        vertical-align: top;\n",
       "    }\n",
       "\n",
       "    .dataframe thead th {\n",
       "        text-align: right;\n",
       "    }\n",
       "</style>\n",
       "<table border=\"1\" class=\"dataframe\">\n",
       "  <thead>\n",
       "    <tr style=\"text-align: right;\">\n",
       "      <th></th>\n",
       "      <th>text</th>\n",
       "      <th>target</th>\n",
       "    </tr>\n",
       "  </thead>\n",
       "  <tbody>\n",
       "    <tr>\n",
       "      <th>0</th>\n",
       "      <td>@SushiDeathNo1 - bÃ¶Ã¶Ã¶Ã¶ll... I'M BORED!</td>\n",
       "      <td>0</td>\n",
       "    </tr>\n",
       "    <tr>\n",
       "      <th>1</th>\n",
       "      <td>My that's early.  I wish I enjoyed mornings mo...</td>\n",
       "      <td>0</td>\n",
       "    </tr>\n",
       "    <tr>\n",
       "      <th>2</th>\n",
       "      <td>Is on her way to get a new pipe. My other broke</td>\n",
       "      <td>0</td>\n",
       "    </tr>\n",
       "    <tr>\n",
       "      <th>3</th>\n",
       "      <td>@DowneyJr you forgot all about me</td>\n",
       "      <td>0</td>\n",
       "    </tr>\n",
       "    <tr>\n",
       "      <th>4</th>\n",
       "      <td>@maria_lovsya boo, what a dirty trick</td>\n",
       "      <td>0</td>\n",
       "    </tr>\n",
       "    <tr>\n",
       "      <th>...</th>\n",
       "      <td>...</td>\n",
       "      <td>...</td>\n",
       "    </tr>\n",
       "    <tr>\n",
       "      <th>99995</th>\n",
       "      <td>Taking my daughter to the movies. Eating ice c...</td>\n",
       "      <td>1</td>\n",
       "    </tr>\n",
       "    <tr>\n",
       "      <th>99996</th>\n",
       "      <td>@pierreJoye Yes, a while back. I found it very...</td>\n",
       "      <td>1</td>\n",
       "    </tr>\n",
       "    <tr>\n",
       "      <th>99997</th>\n",
       "      <td>@TTVWineGal Yes, it would have not been a part...</td>\n",
       "      <td>1</td>\n",
       "    </tr>\n",
       "    <tr>\n",
       "      <th>99998</th>\n",
       "      <td>wants to look at pretty things</td>\n",
       "      <td>1</td>\n",
       "    </tr>\n",
       "    <tr>\n",
       "      <th>99999</th>\n",
       "      <td>goodnight loves . mwah</td>\n",
       "      <td>1</td>\n",
       "    </tr>\n",
       "  </tbody>\n",
       "</table>\n",
       "<p>98691 rows × 2 columns</p>\n",
       "</div>"
      ]
     },
     "execution_count": 130,
     "metadata": {},
     "output_type": "execute_result"
    }
   ],
   "execution_count": 130
  },
  {
   "metadata": {
    "ExecuteTime": {
     "end_time": "2025-02-08T16:52:08.680858Z",
     "start_time": "2025-02-08T16:52:08.523831Z"
    }
   },
   "cell_type": "code",
   "source": [
    "#Salvataggio del dataset su cui sarà fatto il training (deve essere fatta ancora la pulizia dei tweet)\n",
    "dataset.to_csv(\"../../data/sentiment140_reduced_clean.csv\", index=False)"
   ],
   "id": "8d8ef955e7f18d15",
   "outputs": [],
   "execution_count": 136
  },
  {
   "metadata": {
    "ExecuteTime": {
     "end_time": "2025-02-08T16:52:09.902884Z",
     "start_time": "2025-02-08T16:52:09.783099Z"
    }
   },
   "cell_type": "code",
   "source": [
    "#Caricamento del dataset pulito\n",
    "dataset = pd.read_csv(\"../../data/sentiment140_reduced_clean.csv\")\n",
    "dataset"
   ],
   "id": "932b8b7cc566ff9d",
   "outputs": [
    {
     "data": {
      "text/plain": [
       "                                                    text  target\n",
       "0            @SushiDeathNo1 - bÃ¶Ã¶Ã¶Ã¶ll... I'M BORED!        0\n",
       "1      My that's early.  I wish I enjoyed mornings mo...       0\n",
       "2       Is on her way to get a new pipe. My other broke        0\n",
       "3                     @DowneyJr you forgot all about me        0\n",
       "4                 @maria_lovsya boo, what a dirty trick        0\n",
       "...                                                  ...     ...\n",
       "98686  Taking my daughter to the movies. Eating ice c...       1\n",
       "98687  @pierreJoye Yes, a while back. I found it very...       1\n",
       "98688  @TTVWineGal Yes, it would have not been a part...       1\n",
       "98689                    wants to look at pretty things        1\n",
       "98690                            goodnight loves . mwah        1\n",
       "\n",
       "[98691 rows x 2 columns]"
      ],
      "text/html": [
       "<div>\n",
       "<style scoped>\n",
       "    .dataframe tbody tr th:only-of-type {\n",
       "        vertical-align: middle;\n",
       "    }\n",
       "\n",
       "    .dataframe tbody tr th {\n",
       "        vertical-align: top;\n",
       "    }\n",
       "\n",
       "    .dataframe thead th {\n",
       "        text-align: right;\n",
       "    }\n",
       "</style>\n",
       "<table border=\"1\" class=\"dataframe\">\n",
       "  <thead>\n",
       "    <tr style=\"text-align: right;\">\n",
       "      <th></th>\n",
       "      <th>text</th>\n",
       "      <th>target</th>\n",
       "    </tr>\n",
       "  </thead>\n",
       "  <tbody>\n",
       "    <tr>\n",
       "      <th>0</th>\n",
       "      <td>@SushiDeathNo1 - bÃ¶Ã¶Ã¶Ã¶ll... I'M BORED!</td>\n",
       "      <td>0</td>\n",
       "    </tr>\n",
       "    <tr>\n",
       "      <th>1</th>\n",
       "      <td>My that's early.  I wish I enjoyed mornings mo...</td>\n",
       "      <td>0</td>\n",
       "    </tr>\n",
       "    <tr>\n",
       "      <th>2</th>\n",
       "      <td>Is on her way to get a new pipe. My other broke</td>\n",
       "      <td>0</td>\n",
       "    </tr>\n",
       "    <tr>\n",
       "      <th>3</th>\n",
       "      <td>@DowneyJr you forgot all about me</td>\n",
       "      <td>0</td>\n",
       "    </tr>\n",
       "    <tr>\n",
       "      <th>4</th>\n",
       "      <td>@maria_lovsya boo, what a dirty trick</td>\n",
       "      <td>0</td>\n",
       "    </tr>\n",
       "    <tr>\n",
       "      <th>...</th>\n",
       "      <td>...</td>\n",
       "      <td>...</td>\n",
       "    </tr>\n",
       "    <tr>\n",
       "      <th>98686</th>\n",
       "      <td>Taking my daughter to the movies. Eating ice c...</td>\n",
       "      <td>1</td>\n",
       "    </tr>\n",
       "    <tr>\n",
       "      <th>98687</th>\n",
       "      <td>@pierreJoye Yes, a while back. I found it very...</td>\n",
       "      <td>1</td>\n",
       "    </tr>\n",
       "    <tr>\n",
       "      <th>98688</th>\n",
       "      <td>@TTVWineGal Yes, it would have not been a part...</td>\n",
       "      <td>1</td>\n",
       "    </tr>\n",
       "    <tr>\n",
       "      <th>98689</th>\n",
       "      <td>wants to look at pretty things</td>\n",
       "      <td>1</td>\n",
       "    </tr>\n",
       "    <tr>\n",
       "      <th>98690</th>\n",
       "      <td>goodnight loves . mwah</td>\n",
       "      <td>1</td>\n",
       "    </tr>\n",
       "  </tbody>\n",
       "</table>\n",
       "<p>98691 rows × 2 columns</p>\n",
       "</div>"
      ]
     },
     "execution_count": 137,
     "metadata": {},
     "output_type": "execute_result"
    }
   ],
   "execution_count": 137
  },
  {
   "metadata": {
    "ExecuteTime": {
     "end_time": "2025-02-08T16:56:58.063670Z",
     "start_time": "2025-02-08T16:56:57.985271Z"
    }
   },
   "cell_type": "code",
   "source": [
    "sentiment_counts = dataset['target'].value_counts()\n",
    "\n",
    "# Stampa del numero di tweet per ciascuna classe\n",
    "print(\"\\nNumero di tweet per ciascuna classe:\")\n",
    "for sentiment, count in sentiment_counts.items():\n",
    "    print(f\"{sentiment}: {count}\")\n",
    "\n",
    "# Creazione del diagramma a barre con posizioni corrette\n",
    "plt.figure(figsize=(8, 5))\n",
    "\n",
    "bar_positions = range(len(sentiment_counts))\n",
    "plt.bar(bar_positions, sentiment_counts.values, color='skyblue', edgecolor='black')\n",
    "\n",
    "# Imposta le etichette personalizzate per l'asse X\n",
    "plt.xticks(bar_positions, [\"Negativo (=0)\", \"Positivo (=1)\"])\n",
    "\n",
    "plt.xlabel(\"Classi di Sentiment\")\n",
    "plt.ylabel(\"Numero di Esempi\")\n",
    "plt.title(\"Bilanciamento delle Classi nel Dataset ridotto e pulito\")\n",
    "\n",
    "# Aggiunta dei valori sopra le barre\n",
    "for i, value in enumerate(sentiment_counts.values):\n",
    "    plt.text(i, value + 500, str(value), ha='center', fontsize=12)\n",
    "\n",
    "plt.show()"
   ],
   "id": "52cae689774efb6c",
   "outputs": [
    {
     "name": "stdout",
     "output_type": "stream",
     "text": [
      "\n",
      "Numero di tweet per ciascuna classe:\n",
      "0: 49370\n",
      "1: 49321\n"
     ]
    },
    {
     "data": {
      "text/plain": [
       "<Figure size 800x500 with 1 Axes>"
      ],
      "image/png": "[encoded data removed]"
     },
     "metadata": {},
     "output_type": "display_data"
    }
   ],
   "execution_count": 146
  },
  {
   "metadata": {},
   "cell_type": "markdown",
   "source": "# Pulizia NLP tweet",
   "id": "70aa2a44c8f4189b"
  }
 ],
 "metadata": {
  "kernelspec": {
   "display_name": "Python 3",
   "language": "python",
   "name": "python3"
  },
  "language_info": {
   "codemirror_mode": {
    "name": "ipython",
    "version": 2
   },
   "file_extension": ".py",
   "mimetype": "text/x-python",
   "name": "python",
   "nbconvert_exporter": "python",
   "pygments_lexer": "ipython2",
   "version": "2.7.6"
  }
 },
 "nbformat": 4,
 "nbformat_minor": 5
}
